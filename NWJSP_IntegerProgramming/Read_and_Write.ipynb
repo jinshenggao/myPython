import numpy as np
import os

class Get_Data(object):
	_t=None; _Data=None; _X=None; _srcD = None;_srcR = None
	def __init__(self,insName=None,name=None):
		if name == None:
			self._srcD="jobshop1.txt";
		else: 
			self._srcD=name+".txt"; 

		if insName == None:
			self.insName="instance "+"la01";
		else: 
			self.insName="instance "+insName; 
		self.Data = None
		self.JobOperation = None
		self.BenchInfro = []

	def convertData(self,tmpData):	
		n = int(tmpData.__len__()); m = int(tmpData[0].__len__()/2)
		conData = np.zeros((n,m))
		JobOperation = np.zeros((n,m))
		for j in range(n):
			JCoad = [ tmpData[j][i] for i in range(tmpData[j].__len__()) if i%2==0 ]
			JTime = [ tmpData[j][i] for i in range(tmpData[j].__len__()) if i%2==1 ]
			for i in range(m):
				conData[j][JCoad[i]] = JTime[i]
				JobOperation[j][i] = JCoad[i]
		# print(conData)
		return [conData,JobOperation]

	def readSRC(self):
		tmpData = []
		with open(self._srcD, 'r') as file_to_read:
			read_flag = -1
			n = 0
			while True:
				lines = file_to_read.readline() 	

				if self.insName in lines:
					read_flag = 6

				if read_flag > 0:
					read_flag -= 1
					self.BenchInfro.append(lines)
					if lines != " \n":
						print(lines.replace("\n", ""))

				if read_flag == 1:
					self.BenchInfro.append(lines)
					n = list(map(int,lines.split()))[0]

				if read_flag==0:
					if tmpData.__len__()<n:
						tmp = list(map(int,lines.split()))
						tmpData.append(tmp)
						print(lines.replace("\n", ""))
					else:
						break

				if not lines:
					print('Woring:Did not find ",self.insName,"！！！')
					break
			self.Data=self.convertData(tmpData)[0]
			self.JobOperation=self.convertData(tmpData)[1]

	def isWriteFlie(self,pathname,bestfit):
		filesize = os.path.getsize(pathname)
		blocksize = 1024
		dat_file = open(pathname, 'rb')
		last_line = ""
		if filesize > blocksize:
			maxseekpoint = (filesize // blocksize)
			dat_file.seek((maxseekpoint - 1) * blocksize)
		elif filesize:
			dat_file.seek(0, 0)
		lines = dat_file.readlines()
		if lines:
			last_line = lines[-1].strip()
		dat_file.close()
		file_fit = 10000
		if last_line.isdigit():
			file_fit=float(last_line)
		if file_fit>=bestfit:
			return True
		else:
			return False


	def writeFormat(self,f,strTime,gl_Fitness,sp_fitness,sp_meancost,best_Cadidate,best_Intervals,BenchInfro,
					numb_bees, max_itrs):
		BenchInfro.pop(); BenchInfro.pop(); BenchInfro.pop();BenchInfro.remove(" \n")
		f.write("*******************************************************************\n")
		f.write("         Create Solution Time:")
		f.write(strTime+"\n")
		f.write("         numb_bees="+str(numb_bees)+";")
		f.write("max_itrs="+str(max_itrs)+";"+"run_times="+str(len(gl_Fitness))+"\n")
		f.write("*******************************************************************\n")
		f.write("\n")

		for lines in BenchInfro:
			f.write(lines)
		f.write("\n")

		f.write("Agents Fitness \n")
		for i in range(sp_fitness.__len__()):
			f.write("Agent "+str(i)+"\n")
			f.write( str(sp_fitness[i]) )			
			f.write("\n")

		f.write("Meancost Fitness \n")
		for i in range(sp_fitness.__len__()):
			f.write("Meancost "+str(i)+"\n")
			f.write( str(sp_meancost[i]) )			
			f.write("\n")

		f.write("Best Solution Coad\n")
		f.write( str(best_Cadidate) )
		f.write("\n");f.write("\n")

		f.write("Fit\n")
		f.write( str(gl_Fitness) )
		f.write("\n");f.write("\n")

		f.write("Best Solution Inervals\n")
		f.write( str(best_Intervals) )
		f.write("\n");f.write("\n")

		f.write("Best Solution Fit\n")
		f.write( str(gl_Fitness[-1]) )
		f.write("\n")

	def SaveSolution(self,name,strTime,gl_Fitness,sp_fitness,sp_meancost,best_Cadidate,best_Intervals,BenchInfro,
					numb_bees, max_itrs):	
		path = './sol_Files/'
		root = os.getcwd()
		if os.path.exists(path)==False:
			os.mkdir("sol_Files")
		os.chdir(path) 
		if os.path.exists(name+'_sol.txt'):
			if self.isWriteFlie(name+'_sol.txt',gl_Fitness[-1]):
				f = open(name+'_sol.txt','w') 
				self.writeFormat(f,strTime,gl_Fitness,sp_fitness,sp_meancost,best_Cadidate,best_Intervals,BenchInfro,
					numb_bees, max_itrs)
				f.close()
			else:
				print("This fit %s is not historycal best!" %str(gl_Fitness[-1]))
		else:
			f = open(name+'_sol.txt','w') 
			self.writeFormat(f,strTime,gl_Fitness,best_Cadidate,best_Intervals,BenchInfro,
					numb_bees, max_itrs)
			f.close()
		os.chdir(root) 

# def main():
# 	name = "abz5"
# 	data = Get_Data(name)
# 	data.readSRC()  
# 	print(data.Data)
# 	print(data.JobOperation)



# if __name__ == '__main__':
# 	main()
