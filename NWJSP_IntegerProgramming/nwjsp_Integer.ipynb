#-* TSP问题整数规划基本模型 *-#
from pulp import *
import numpy as np
from Read_and_Write import *




#c表示为对应的木变函数的距离系数 
def generateModel(p,r):
	n = len(p)
	m = len(p[0])

	M = 10000	#对大M的赋值，一个极大值
	# 设置对象,对象名称，最小化
	prob = LpProblem('myNWJSP', LpMinimize)

	#先添加对应的Cmax
	Cmax = LpVariable("Cmax",cat=LpInteger)

	z = []
	#再添加对应的z_ilk
	for i in range(n):
		tt=[]
		for l in range(n):
			t = []
			for k in range(m):
				t.append(LpVariable("z"+str(i)+"_"+str(l)+"_"+str(k),cat=LpBinary))
			tt.append(t)
		z.append(tt)

	s = []
	#添加对应的s_i,k
	for i in range(n):
		t = []
		for k in range(m):
			t.append(LpVariable("s"+str(i)+"_"+str(k),cat=LpInteger))
		s.append(t)


	# 目标函数
	prob += Cmax

	prob += Cmax >= 0

	for i in range(n):
		for k in range(m):
			prob += s[i][k] >= 0

	for i in range(n):
		for j in range(m-1):
			left = 0
			right = 0
			for k in range(m):
				left += r[i][j][k]*(s[i][k]+p[i][k])
				right += r[i][j+1][k]*s[i][k]
			prob += left == right

	for i in range(n):
		for l in range(n):
			if l>=i:
				for k in range(m):
					prob += s[l][k]-s[i][k] >= p[i][k] - M*(1-z[i][l][k])

	for i in range(n):
		for l in range(n):
			if l>=i:
				for k in range(m):
					prob += s[i][k]-s[l][k] >= p[l][k] - M*z[i][l][k]

	for i in range(m):
		left = 0
		for k in range(m):
			left += r[i][m-1][k]*(s[i][k]+p[i][k])
		prob += left <= Cmax

	prob.solve(CPLEX())
	for v in prob.variables():
		print(v.name, "=", v.varValue)
	return prob

def convertR(Jc):
	r = []
	for j in Jc:
		m=len(j)
		tmp=np.zeros((m,m))
		for k in range(m):
			tmp[k][j[k]] = 1
		r.append(tmp)
	return r

def main():
	name = 'la02'
	data = Get_Data(name)
	data.readSRC()  #读取文本文件
	""" 基本数值赋值 """
	p = data.Data
	r = convertR(data.JobOperation)
	mytest = generateModel(p,r)

if __name__ == '__main__':
	main()
	
