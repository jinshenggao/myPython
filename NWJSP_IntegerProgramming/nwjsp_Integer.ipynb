from pulp import *
import numpy as np
from Read_and_Write import *



def generateModel(p,r):
	n = len(p)
	m = len(p[0])

	M = 10000	
	prob = LpProblem('myNWJSP', LpMinimize)

	Cmax = LpVariable("Cmax",cat=LpInteger)

	z = []
	for i in range(n):
		tt=[]
		for l in range(n):
			t = []
			for k in range(m):
				t.append(LpVariable("z"+str(i)+"_"+str(l)+"_"+str(k),cat=LpBinary))
			tt.append(t)
		z.append(tt)

	s = []
	for i in range(n):
		t = []
		for k in range(m):
			t.append(LpVariable("s"+str(i)+"_"+str(k),cat=LpInteger))
		s.append(t)


	prob += Cmax

	prob += Cmax >= 0

	for i in range(n):
		for k in range(m):
			prob += s[i][k] >= 0

	for i in range(n):
		for j in range(m-1):
			left = 0
			right = 0
			for k in range(m):
				left += r[i][j][k]*(s[i][k]+p[i][k])
				right += r[i][j+1][k]*s[i][k]
			prob += left == right

	for i in range(n):
		for l in range(n):
			if l>=i:
				for k in range(m):
					prob += s[l][k]-s[i][k] >= p[i][k] - M*(1-z[i][l][k])

	for i in range(n):
		for l in range(n):
			if l>=i:
				for k in range(m):
					prob += s[i][k]-s[l][k] >= p[l][k] - M*z[i][l][k]

	for i in range(m):
		left = 0
		for k in range(m):
			left += r[i][m-1][k]*(s[i][k]+p[i][k])
		prob += left <= Cmax

	prob.solve(CPLEX())
	for v in prob.variables():
		print(v.name, "=", v.varValue)
	return prob

def convertR(Jc):
	r = []
	for j in Jc:
		m=len(j)
		tmp=np.zeros((m,m))
		for k in range(m):
			tmp[k][j[k]] = 1
		r.append(tmp)
	return r

def main():
	name = 'la02'
	data = Get_Data(name)
	data.readSRC()  
	p = data.Data
	r = convertR(data.JobOperation)
	mytest = generateModel(p,r)

if __name__ == '__main__':
	main()
	
